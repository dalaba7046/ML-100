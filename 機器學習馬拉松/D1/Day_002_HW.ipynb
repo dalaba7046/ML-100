{
  "nbformat": 4,
  "nbformat_minor": 0,
  "metadata": {
    "kernelspec": {
      "display_name": "Python 3",
      "language": "python",
      "name": "python3"
    },
    "language_info": {
      "codemirror_mode": {
        "name": "ipython",
        "version": 3
      },
      "file_extension": ".py",
      "mimetype": "text/x-python",
      "name": "python",
      "nbconvert_exporter": "python",
      "pygments_lexer": "ipython3",
      "version": "3.6.6"
    },
    "colab": {
      "name": "Day_002_HW.ipynb",
      "provenance": [],
      "collapsed_sections": [],
      "include_colab_link": true
    }
  },
  "cells": [
    {
      "cell_type": "markdown",
      "metadata": {
        "id": "view-in-github",
        "colab_type": "text"
      },
      "source": [
        "<a href=\"https://colab.research.google.com/github/dalaba7046/ML-100/blob/master/Day_002_HW.ipynb\" target=\"_parent\"><img src=\"https://colab.research.google.com/assets/colab-badge.svg\" alt=\"Open In Colab\"/></a>"
      ]
    },
    {
      "cell_type": "markdown",
      "metadata": {
        "id": "A1l462qn8SuR"
      },
      "source": [
        "## [作業目標]\n",
        "了解機器學習適合應用的領域與範疇。"
      ]
    },
    {
      "cell_type": "markdown",
      "metadata": {
        "id": "xY-TDk6_8SuS"
      },
      "source": [
        "## [作業重點]\n",
        "透過瞭解機器學習的運作方式，找出非常適用機器學習應用的領域及其原因"
      ]
    },
    {
      "cell_type": "markdown",
      "metadata": {
        "id": "on7C9heN8SuT"
      },
      "source": [
        "## 作業\n",
        "請找出一個你認為機器學習可以發光發熱的領域並闡述原因? "
      ]
    },
    {
      "cell_type": "code",
      "metadata": {
        "id": "KYr6xKXD8SuT"
      },
      "source": [
        "政治人物任用評等機制:\n",
        "主旨:針對政治人物進行信用評等以決定是否給予參選,用以做到民主制度選賢與能\n",
        "競選連任:\n",
        "    參考過往政見完成度及網路評價,以及任期中是否牽連犯罪(無論犯罪事實)\n",
        "非競選連任:\n",
        "    參考是否具備犯罪前科,以及競選政見是否具備可行度.\n",
        "    評估該候選人所屬地方勢力是否具備犯罪事實"
      ],
      "execution_count": null,
      "outputs": []
    }
  ]
}
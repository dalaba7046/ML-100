{
  "nbformat": 4,
  "nbformat_minor": 0,
  "metadata": {
    "kernelspec": {
      "display_name": "Python 3",
      "language": "python",
      "name": "python3"
    },
    "language_info": {
      "codemirror_mode": {
        "name": "ipython",
        "version": 3
      },
      "file_extension": ".py",
      "mimetype": "text/x-python",
      "name": "python",
      "nbconvert_exporter": "python",
      "pygments_lexer": "ipython3",
      "version": "3.6.1"
    },
    "colab": {
      "name": "Day_005_1_HW.ipynb",
      "provenance": []
    }
  },
  "cells": [
    {
      "cell_type": "markdown",
      "metadata": {
        "id": "qYcPfGKeTjMv"
      },
      "source": [
        "# [作業目標]\n",
        "- 利用範例的創建方式, 創建一組資料, 並練習如何取出最大值"
      ]
    },
    {
      "cell_type": "markdown",
      "metadata": {
        "id": "2dHbL9wiTjMv"
      },
      "source": [
        "# [作業重點]\n",
        "- 練習創立 DataFrame (In[2])\n",
        "- 如何取出口數最多的國家 (In[3], Out[3])"
      ]
    },
    {
      "cell_type": "markdown",
      "metadata": {
        "id": "JsIgHl4_TjMv"
      },
      "source": [
        "## 練習時間\n",
        "在小量的資料上，我們用眼睛就可以看得出來程式碼是否有跑出我們理想中的結果\n",
        "\n",
        "請嘗試想像一個你需要的資料結構 (裡面的值可以是隨機的)，然後用上述的方法把它變成 pandas DataFrame\n",
        "\n",
        "#### Ex: 想像一個 dataframe 有兩個欄位，一個是國家，一個是人口，求人口數最多的國家\n",
        "\n",
        "### Hints: [隨機產生數值](https://blog.csdn.net/christianashannon/article/details/78867204)"
      ]
    },
    {
      "cell_type": "code",
      "metadata": {
        "id": "-qe9JhO4TjMw"
      },
      "source": [
        "import pandas as pd\n",
        "import numpy as np\n",
        "import random"
      ],
      "execution_count": null,
      "outputs": []
    },
    {
      "cell_type": "code",
      "metadata": {
        "colab": {
          "base_uri": "https://localhost:8080/",
          "height": 136
        },
        "id": "y8Dpf13qTjMw",
        "outputId": "975fb4ed-6945-4db7-8f3a-da84d73bc165"
      },
      "source": [
        "people = [random.randint(500000,1000000) for i in range(5) ]\n",
        "coun = ['台灣','香港','新加坡','澳門','泰國']\n",
        "data = {'國家': coun,\n",
        "        '人口': people}\n",
        "data = pd.DataFrame(data)\n",
        "print(data)\n"
      ],
      "execution_count": null,
      "outputs": [
        {
          "output_type": "stream",
          "text": [
            "    國家      人口\n",
            "0   台灣  626154\n",
            "1   香港  758153\n",
            "2  新加坡  591657\n",
            "3   澳門  931368\n",
            "4   泰國  989768\n"
          ],
          "name": "stdout"
        },
        {
          "output_type": "execute_result",
          "data": {
            "application/vnd.google.colaboratory.intrinsic+json": {
              "type": "string"
            },
            "text/plain": [
              "'香港'"
            ]
          },
          "metadata": {
            "tags": []
          },
          "execution_count": 9
        }
      ]
    },
    {
      "cell_type": "code",
      "metadata": {
        "colab": {
          "base_uri": "https://localhost:8080/"
        },
        "id": "Xm6G4m04TjMw",
        "outputId": "e737d9b9-0bf9-4484-bca9-1c0c4f522cd7"
      },
      "source": [
        "max_peo_ind = data['人口'].idxmax()\n",
        "max_coun = data.iloc[max_peo_ind]\n",
        "max_coun"
      ],
      "execution_count": null,
      "outputs": [
        {
          "output_type": "execute_result",
          "data": {
            "text/plain": [
              "國家        泰國\n",
              "人口    989768\n",
              "Name: 4, dtype: object"
            ]
          },
          "metadata": {
            "tags": []
          },
          "execution_count": 22
        }
      ]
    },
    {
      "cell_type": "markdown",
      "metadata": {
        "id": "uld4KaoWHc0-"
      },
      "source": [
        "## 讀取 txt 檔\n",
        "* 請讀取 [text file](https://raw.githubusercontent.com/vashineyu/slides_and_others/master/tutorial/examples/imagenet_urls_examples.txt)\n",
        "* 懶人複製連結: https://raw.githubusercontent.com/vashineyu/slides_and_others/master/tutorial/examples/imagenet_urls_examples.txt\n",
        "\n",
        "### Hints: 使用 [Request](https://blog.gtwang.org/programming/python-requests-module-tutorial/) 抓取資料\n",
        "### Hints: [字串分割](http://www.runoob.com/python/att-string-split.html)\n",
        "### Hints: 例外處理: [Try-Except](https://pydoing.blogspot.com/2011/01/python-try.html)"
      ]
    },
    {
      "cell_type": "markdown",
      "metadata": {
        "id": "Y_vr90tsHc0-"
      },
      "source": [
        "# [作業目標]\n",
        "- 試著讀取網頁上的圖片連結清單, 再以清單中網址讀取圖片"
      ]
    },
    {
      "cell_type": "markdown",
      "metadata": {
        "id": "KCaSPWMtHc0_"
      },
      "source": [
        "# [作業重點]\n",
        "- 從網頁上讀取連結清單 (In[1], In[2])\n",
        "- 從清單網址讀取圖片 (In[6]~In[9], Out[6]~Out[9])"
      ]
    },
    {
      "cell_type": "code",
      "metadata": {
        "id": "hZ-w0ICJHc0_"
      },
      "source": [
        "## 假如我們不想把資料載到自己的電腦裡?\n",
        "# 把連結填入\n",
        "target_url = 'https://raw.githubusercontent.com/vashineyu/slides_and_others/master/tutorial/examples/imagenet_urls_examples.txt'\n",
        "import requests\n",
        "response = requests.get(target_url)\n",
        "data = response.text\n",
        "\n",
        "# 用 request 傳送回來的資料不會認得斷行符號\n",
        "print(len(data))\n",
        "data[0:100]\n",
        "# 找到換行符號，用該符號做字串分割後，把它拿掉\n",
        "split_tag = '\\n'\n",
        "files = []\n",
        "urls = []\n",
        "data = data.split(split_tag)\n",
        "for i in range(len(data)-1):\n",
        "    files.append(data[i].split('\\t')[0])\n",
        "    urls.append(data[i].split('\\t')[1])\n",
        "## 將 txt 轉成 pandas dataframe\n",
        "import pandas as pd\n",
        "arrange_data = {0:files,\n",
        "         1:urls       \n",
        "                }\n",
        "\n",
        "df = pd.DataFrame(arrange_data)\n",
        "df.head()\n",
        "## 讀取圖片，請讀取上面 data frame 中的前 5 張圖片\n",
        "from PIL import Image\n",
        "from io import BytesIO\n",
        "import numpy as np\n",
        "import matplotlib.pyplot as plt\n",
        "\n",
        "# 請用 df.loc[...] 得到第一筆資料的連結\n",
        "first_link = df.iloc[0][1]\n",
        "\n",
        "response = requests.get(first_link)\n",
        "img = Image.open(BytesIO(response.content))\n",
        "\n",
        "# Convert img to numpy array\n",
        "\n",
        "plt.imshow(img)\n",
        "plt.show()\n",
        "def img2arr_fromURLs(url_list, resize = False):\n",
        "    \"\"\"\n",
        "    請完成這個 Function\n",
        "    Args\n",
        "        - url_list: list of URLs\n",
        "        - resize: bool\n",
        "    Return\n",
        "        - list of array\n",
        "    \"\"\"\n",
        "    img_list = []\n",
        "    for li in url_list:\n",
        "        img_list.append(li)\n",
        "    return img_list\n",
        "result = img2arr_fromURLs(df[0:5][1].values)\n",
        "print(\"Total images that we got: %i \" % len(result)) # 如果不等於 5, 代表有些連結失效囉\n",
        "\n",
        "for im_get in result:\n",
        "    response = requests.get(im_get)\n",
        "    status_code = response.status_code\n",
        "    if status_code == 404:\n",
        "        print(\"Img_link is Error 404\")\n",
        "    else:\n",
        "        img = Image.open(BytesIO(response.content))\n",
        "        plt.imshow(img)\n",
        "        plt.show()"
      ],
      "execution_count": null,
      "outputs": []
    }
  ]
}